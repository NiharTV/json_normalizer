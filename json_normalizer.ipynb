{
 "cells": [
  {
   "cell_type": "code",
   "execution_count": 62,
   "metadata": {},
   "outputs": [],
   "source": [
    "import pandas as pd\n",
    "import json\n",
    "import os"
   ]
  },
  {
   "cell_type": "markdown",
   "metadata": {},
   "source": [
    "SIMPLE JSON"
   ]
  },
  {
   "cell_type": "code",
   "execution_count": 27,
   "metadata": {},
   "outputs": [],
   "source": [
    "with open(\"example_json.json\") as fp:\n",
    "    data = json.load(fp)"
   ]
  },
  {
   "cell_type": "code",
   "execution_count": 28,
   "metadata": {},
   "outputs": [
    {
     "data": {
      "text/plain": [
       "{'person': {'full name': 'Marianne Klein',\n",
       "  'address': [{'street': '861 Conroy Passage', 'city': 'Williamsfield'},\n",
       "   {'street': '863 Conroy Passage', 'city': 'Amsterdam'}]}}"
      ]
     },
     "execution_count": 28,
     "metadata": {},
     "output_type": "execute_result"
    }
   ],
   "source": [
    "data"
   ]
  },
  {
   "cell_type": "code",
   "execution_count": 29,
   "metadata": {},
   "outputs": [],
   "source": [
    "df = pd.json_normalize(data)"
   ]
  },
  {
   "cell_type": "code",
   "execution_count": 30,
   "metadata": {},
   "outputs": [
    {
     "data": {
      "text/html": [
       "<div>\n",
       "<style scoped>\n",
       "    .dataframe tbody tr th:only-of-type {\n",
       "        vertical-align: middle;\n",
       "    }\n",
       "\n",
       "    .dataframe tbody tr th {\n",
       "        vertical-align: top;\n",
       "    }\n",
       "\n",
       "    .dataframe thead th {\n",
       "        text-align: right;\n",
       "    }\n",
       "</style>\n",
       "<table border=\"1\" class=\"dataframe\">\n",
       "  <thead>\n",
       "    <tr style=\"text-align: right;\">\n",
       "      <th></th>\n",
       "      <th>person.full name</th>\n",
       "      <th>person.address</th>\n",
       "    </tr>\n",
       "  </thead>\n",
       "  <tbody>\n",
       "    <tr>\n",
       "      <th>0</th>\n",
       "      <td>Marianne Klein</td>\n",
       "      <td>[{'street': '861 Conroy Passage', 'city': 'Wil...</td>\n",
       "    </tr>\n",
       "  </tbody>\n",
       "</table>\n",
       "</div>"
      ],
      "text/plain": [
       "  person.full name                                     person.address\n",
       "0   Marianne Klein  [{'street': '861 Conroy Passage', 'city': 'Wil..."
      ]
     },
     "execution_count": 30,
     "metadata": {},
     "output_type": "execute_result"
    }
   ],
   "source": [
    "df"
   ]
  },
  {
   "cell_type": "code",
   "execution_count": 31,
   "metadata": {},
   "outputs": [],
   "source": [
    "df=df.explode('person.address').reset_index(drop=True)"
   ]
  },
  {
   "cell_type": "code",
   "execution_count": 32,
   "metadata": {},
   "outputs": [
    {
     "data": {
      "text/html": [
       "<div>\n",
       "<style scoped>\n",
       "    .dataframe tbody tr th:only-of-type {\n",
       "        vertical-align: middle;\n",
       "    }\n",
       "\n",
       "    .dataframe tbody tr th {\n",
       "        vertical-align: top;\n",
       "    }\n",
       "\n",
       "    .dataframe thead th {\n",
       "        text-align: right;\n",
       "    }\n",
       "</style>\n",
       "<table border=\"1\" class=\"dataframe\">\n",
       "  <thead>\n",
       "    <tr style=\"text-align: right;\">\n",
       "      <th></th>\n",
       "      <th>person.full name</th>\n",
       "      <th>person.address</th>\n",
       "    </tr>\n",
       "  </thead>\n",
       "  <tbody>\n",
       "    <tr>\n",
       "      <th>0</th>\n",
       "      <td>Marianne Klein</td>\n",
       "      <td>{'street': '861 Conroy Passage', 'city': 'Will...</td>\n",
       "    </tr>\n",
       "    <tr>\n",
       "      <th>1</th>\n",
       "      <td>Marianne Klein</td>\n",
       "      <td>{'street': '863 Conroy Passage', 'city': 'Amst...</td>\n",
       "    </tr>\n",
       "  </tbody>\n",
       "</table>\n",
       "</div>"
      ],
      "text/plain": [
       "  person.full name                                     person.address\n",
       "0   Marianne Klein  {'street': '861 Conroy Passage', 'city': 'Will...\n",
       "1   Marianne Klein  {'street': '863 Conroy Passage', 'city': 'Amst..."
      ]
     },
     "execution_count": 32,
     "metadata": {},
     "output_type": "execute_result"
    }
   ],
   "source": [
    "df"
   ]
  },
  {
   "cell_type": "markdown",
   "metadata": {},
   "source": [
    "HIGHLY COMPLEX JSON"
   ]
  },
  {
   "cell_type": "code",
   "execution_count": 33,
   "metadata": {},
   "outputs": [],
   "source": [
    "with open(\"generated.json\") as fp:\n",
    "    data = json.load(fp)"
   ]
  },
  {
   "cell_type": "code",
   "execution_count": 34,
   "metadata": {},
   "outputs": [
    {
     "data": {
      "text/plain": [
       "[{'_id': '62f0b6996b5ffba02140972b',\n",
       "  'index': 0,\n",
       "  'guid': 'c6969988-3028-4533-a0d3-19e0bc2d2895',\n",
       "  'isActive': True,\n",
       "  'balance': '$1,719.20',\n",
       "  'picture': 'http://placehold.it/32x32',\n",
       "  'age': 40,\n",
       "  'eyeColor': 'green',\n",
       "  'name': 'Jordan Allen',\n",
       "  'gender': 'female',\n",
       "  'company': 'FUTURIS',\n",
       "  'email': 'jordanallen@futuris.com',\n",
       "  'phone': '+1 (912) 514-3472',\n",
       "  'address': '868 Riverdale Avenue, Robinette, Kentucky, 1463',\n",
       "  'about': 'Tempor magna sunt amet exercitation magna. Aute cupidatat adipisicing ad dolor cupidatat culpa. Ipsum minim labore amet voluptate veniam aute pariatur ullamco Lorem voluptate consequat magna sunt dolor. Proident nostrud sit dolor nisi est cupidatat ad culpa quis Lorem tempor id eiusmod. Deserunt et ut ullamco reprehenderit officia. Incididunt eu duis amet in enim. Exercitation Lorem voluptate veniam ipsum qui reprehenderit tempor nulla sit.\\r\\n',\n",
       "  'registered': '2019-08-26T06:25:06 -06:-30',\n",
       "  'latitude': 73.069673,\n",
       "  'longitude': 137.207595,\n",
       "  'tags': ['non', 'mollit', 'velit', 'laborum', 'qui', 'ipsum', 'sint'],\n",
       "  'friends': [{'id': 0, 'name': 'Jimmie Miles'},\n",
       "   {'id': 1, 'name': 'Stacy Holt'},\n",
       "   {'id': 2, 'name': 'Michael Larson'}],\n",
       "  'greeting': 'Hello, Jordan Allen! You have 10 unread messages.',\n",
       "  'favoriteFruit': 'banana'},\n",
       " {'_id': '62f0b69977affbec511ebe04',\n",
       "  'index': 1,\n",
       "  'guid': 'e5384a44-8153-404b-9ec8-7d24ab2e22c6',\n",
       "  'isActive': False,\n",
       "  'balance': '$2,705.88',\n",
       "  'picture': 'http://placehold.it/32x32',\n",
       "  'age': 34,\n",
       "  'eyeColor': 'brown',\n",
       "  'name': 'Courtney Mendoza',\n",
       "  'gender': 'female',\n",
       "  'company': 'DEVILTOE',\n",
       "  'email': 'courtneymendoza@deviltoe.com',\n",
       "  'phone': '+1 (975) 547-2209',\n",
       "  'address': '268 Engert Avenue, Jugtown, Virgin Islands, 1655',\n",
       "  'about': 'Veniam id amet est esse irure ad veniam non. Aliqua tempor adipisicing qui excepteur magna consequat sit incididunt est. Id esse occaecat exercitation excepteur. Dolore quis est voluptate Lorem cillum.\\r\\n',\n",
       "  'registered': '2020-07-05T06:27:06 -06:-30',\n",
       "  'latitude': 45.191384,\n",
       "  'longitude': 165.063785,\n",
       "  'tags': ['minim', 'ullamco', 'ipsum', 'aliqua', 'Lorem', 'tempor', 'elit'],\n",
       "  'friends': [{'id': 0, 'name': 'Kim Grant'},\n",
       "   {'id': 1, 'name': 'Sykes Dale'},\n",
       "   {'id': 2, 'name': 'Combs Logan'}],\n",
       "  'greeting': 'Hello, Courtney Mendoza! You have 10 unread messages.',\n",
       "  'favoriteFruit': 'apple'},\n",
       " {'_id': '62f0b699828121aa11c708ef',\n",
       "  'index': 2,\n",
       "  'guid': 'b8c74f73-a553-4100-8705-85044594b14f',\n",
       "  'isActive': False,\n",
       "  'balance': '$1,085.46',\n",
       "  'picture': 'http://placehold.it/32x32',\n",
       "  'age': 25,\n",
       "  'eyeColor': 'green',\n",
       "  'name': 'Gates Rivas',\n",
       "  'gender': 'male',\n",
       "  'company': 'HOMETOWN',\n",
       "  'email': 'gatesrivas@hometown.com',\n",
       "  'phone': '+1 (807) 586-3429',\n",
       "  'address': '567 Colonial Road, Coldiron, Puerto Rico, 6129',\n",
       "  'about': 'Sint velit velit nostrud excepteur ullamco. Aliqua fugiat consectetur incididunt laboris et nulla nulla. Labore tempor incididunt tempor ut.\\r\\n',\n",
       "  'registered': '2018-11-13T03:18:38 -06:-30',\n",
       "  'latitude': -57.671522,\n",
       "  'longitude': 97.722594,\n",
       "  'tags': ['proident',\n",
       "   'esse',\n",
       "   'reprehenderit',\n",
       "   'reprehenderit',\n",
       "   'aliquip',\n",
       "   'veniam',\n",
       "   'ea'],\n",
       "  'friends': [{'id': 0, 'name': 'Goodwin Randolph'},\n",
       "   {'id': 1, 'name': 'Gibson George'},\n",
       "   {'id': 2, 'name': 'Mosley Francis'}],\n",
       "  'greeting': 'Hello, Gates Rivas! You have 4 unread messages.',\n",
       "  'favoriteFruit': 'banana'},\n",
       " {'_id': '62f0b699e4f1537974577cbe',\n",
       "  'index': 3,\n",
       "  'guid': '5202e6fd-c66c-4c02-90ae-edbb3e96ac6d',\n",
       "  'isActive': False,\n",
       "  'balance': '$1,118.10',\n",
       "  'picture': 'http://placehold.it/32x32',\n",
       "  'age': 38,\n",
       "  'eyeColor': 'brown',\n",
       "  'name': 'Lopez Donaldson',\n",
       "  'gender': 'male',\n",
       "  'company': 'MUSIX',\n",
       "  'email': 'lopezdonaldson@musix.com',\n",
       "  'phone': '+1 (859) 552-2093',\n",
       "  'address': '631 Clifton Place, Baden, New Mexico, 7208',\n",
       "  'about': 'Deserunt laboris proident est ut aliqua incididunt et fugiat ad nostrud eiusmod cillum laborum mollit. Sit ut eiusmod incididunt do id. Irure ut id in pariatur excepteur ipsum incididunt excepteur. Exercitation officia dolore velit magna tempor deserunt esse.\\r\\n',\n",
       "  'registered': '2018-03-03T04:14:38 -06:-30',\n",
       "  'latitude': 43.026358,\n",
       "  'longitude': 83.525254,\n",
       "  'tags': ['ex',\n",
       "   'labore',\n",
       "   'officia',\n",
       "   'magna',\n",
       "   'tempor',\n",
       "   'dolore',\n",
       "   'consectetur'],\n",
       "  'friends': [{'id': 0, 'name': 'Rosario Key'},\n",
       "   {'id': 1, 'name': 'Olson Long'},\n",
       "   {'id': 2, 'name': 'Gamble Burke'}],\n",
       "  'greeting': 'Hello, Lopez Donaldson! You have 6 unread messages.',\n",
       "  'favoriteFruit': 'banana'},\n",
       " {'_id': '62f0b699e7ef05cedbaf24ae',\n",
       "  'index': 4,\n",
       "  'guid': '5c9a9199-3ed2-40ed-bfd6-123f0045c536',\n",
       "  'isActive': True,\n",
       "  'balance': '$3,203.61',\n",
       "  'picture': 'http://placehold.it/32x32',\n",
       "  'age': 35,\n",
       "  'eyeColor': 'green',\n",
       "  'name': 'Gillespie Blankenship',\n",
       "  'gender': 'male',\n",
       "  'company': 'BEDLAM',\n",
       "  'email': 'gillespieblankenship@bedlam.com',\n",
       "  'phone': '+1 (838) 510-2864',\n",
       "  'address': '451 Seagate Avenue, Beyerville, North Carolina, 7135',\n",
       "  'about': 'Ad proident laborum ut cillum laboris elit ex fugiat id. Nostrud sit aliquip qui amet occaecat qui nisi ut. Excepteur nostrud irure dolor ex magna dolor anim incididunt sit cupidatat consectetur esse officia.\\r\\n',\n",
       "  'registered': '2020-08-16T02:00:49 -06:-30',\n",
       "  'latitude': -49.601916,\n",
       "  'longitude': 21.588797,\n",
       "  'tags': ['duis', 'amet', 'magna', 'aute', 'qui', 'aliquip', 'sunt'],\n",
       "  'friends': [{'id': 0, 'name': 'Kayla Wood'},\n",
       "   {'id': 1, 'name': 'Shawna Russo'},\n",
       "   {'id': 2, 'name': 'Lorraine Cannon'}],\n",
       "  'greeting': 'Hello, Gillespie Blankenship! You have 8 unread messages.',\n",
       "  'favoriteFruit': 'apple'},\n",
       " {'_id': '62f0b699016a3560b0a33a0f',\n",
       "  'index': 5,\n",
       "  'guid': 'd0a944c4-9c2b-4aa2-a748-1b4dd9464bee',\n",
       "  'isActive': True,\n",
       "  'balance': '$2,164.61',\n",
       "  'picture': 'http://placehold.it/32x32',\n",
       "  'age': 26,\n",
       "  'eyeColor': 'green',\n",
       "  'name': 'Mccullough Fulton',\n",
       "  'gender': 'male',\n",
       "  'company': 'PROWASTE',\n",
       "  'email': 'mcculloughfulton@prowaste.com',\n",
       "  'phone': '+1 (801) 533-3738',\n",
       "  'address': '598 Kensington Walk, Harrodsburg, South Dakota, 7780',\n",
       "  'about': 'Ipsum culpa labore dolore aliquip sunt ex deserunt excepteur enim cupidatat voluptate eiusmod incididunt. Dolor mollit eiusmod in culpa. Excepteur aliqua cillum culpa amet ex mollit voluptate ipsum sit. Officia ipsum culpa nostrud nostrud anim exercitation minim consectetur consectetur mollit excepteur pariatur.\\r\\n',\n",
       "  'registered': '2017-03-15T04:09:14 -06:-30',\n",
       "  'latitude': -19.919437,\n",
       "  'longitude': -119.567468,\n",
       "  'tags': ['enim', 'occaecat', 'duis', 'cillum', 'dolore', 'id', 'quis'],\n",
       "  'friends': [{'id': 0, 'name': 'Gabrielle Mckee'},\n",
       "   {'id': 1, 'name': 'Summers Gross'},\n",
       "   {'id': 2, 'name': 'Ellison Melendez'}],\n",
       "  'greeting': 'Hello, Mccullough Fulton! You have 10 unread messages.',\n",
       "  'favoriteFruit': 'strawberry'},\n",
       " {'_id': '62f0b6992ef337d7b0f9c25e',\n",
       "  'index': 6,\n",
       "  'guid': '958bace7-72b7-4962-b6d0-2fa1e01b9879',\n",
       "  'isActive': False,\n",
       "  'balance': '$2,602.72',\n",
       "  'picture': 'http://placehold.it/32x32',\n",
       "  'age': 23,\n",
       "  'eyeColor': 'blue',\n",
       "  'name': 'Rachelle Lee',\n",
       "  'gender': 'female',\n",
       "  'company': 'EQUITAX',\n",
       "  'email': 'rachellelee@equitax.com',\n",
       "  'phone': '+1 (815) 433-2818',\n",
       "  'address': '537 Hope Street, Avalon, Federated States Of Micronesia, 1678',\n",
       "  'about': 'Anim velit occaecat laboris nulla minim pariatur. Ex dolore tempor est aliquip. Sunt sunt tempor fugiat officia excepteur quis esse commodo labore. Anim velit commodo irure cupidatat ullamco. Commodo sunt anim adipisicing amet eiusmod fugiat enim irure ad est. Reprehenderit dolore irure veniam aute et. Anim est eiusmod ea do.\\r\\n',\n",
       "  'registered': '2018-01-26T02:48:34 -06:-30',\n",
       "  'latitude': 43.052351,\n",
       "  'longitude': -73.636871,\n",
       "  'tags': ['ullamco', 'officia', 'veniam', 'do', 'enim', 'sunt', 'ullamco'],\n",
       "  'friends': [{'id': 0, 'name': 'Melisa Morgan'},\n",
       "   {'id': 1, 'name': 'Jacobs Cross'},\n",
       "   {'id': 2, 'name': 'Margaret Frazier'}],\n",
       "  'greeting': 'Hello, Rachelle Lee! You have 4 unread messages.',\n",
       "  'favoriteFruit': 'apple'}]"
      ]
     },
     "execution_count": 34,
     "metadata": {},
     "output_type": "execute_result"
    }
   ],
   "source": [
    "data"
   ]
  },
  {
   "cell_type": "code",
   "execution_count": 57,
   "metadata": {},
   "outputs": [],
   "source": [
    "def normalize_friends(dat):\n",
    "    df = pd.json_normalize(dat['friends'])\n",
    "    # df = df.explode('friends').reset_index(drop=True)\n",
    "    return df"
   ]
  },
  {
   "cell_type": "code",
   "execution_count": 58,
   "metadata": {},
   "outputs": [],
   "source": [
    "def normalize_user(dat):\n",
    "    reqd_cols = ['guid','isActive','balance','picture','age','eyeColor','name','gender','company','email',\n",
    "            'phone','address','registered']\n",
    "    df = pd.json_normalize(dat)\n",
    "    df = df[reqd_cols]\n",
    "    # df = df.explode('friends').reset_index(drop=True)\n",
    "    return df"
   ]
  },
  {
   "cell_type": "code",
   "execution_count": 68,
   "metadata": {},
   "outputs": [],
   "source": [
    "return_dict = {}\n",
    "for dat in data:\n",
    "    return_dict['friends_df'] = normalize_friends(dat)\n",
    "    return_dict['user_df'] = normalize_user(dat)\n",
    "\n",
    "    for key in return_dict.keys():\n",
    "        return_dict[key].to_csv(os.path.join('extracted_data', f'{key}.csv'), header=False, index=True, mode='a')"
   ]
  },
  {
   "cell_type": "code",
   "execution_count": 60,
   "metadata": {},
   "outputs": [
    {
     "data": {
      "text/html": [
       "<div>\n",
       "<style scoped>\n",
       "    .dataframe tbody tr th:only-of-type {\n",
       "        vertical-align: middle;\n",
       "    }\n",
       "\n",
       "    .dataframe tbody tr th {\n",
       "        vertical-align: top;\n",
       "    }\n",
       "\n",
       "    .dataframe thead th {\n",
       "        text-align: right;\n",
       "    }\n",
       "</style>\n",
       "<table border=\"1\" class=\"dataframe\">\n",
       "  <thead>\n",
       "    <tr style=\"text-align: right;\">\n",
       "      <th></th>\n",
       "      <th>id</th>\n",
       "      <th>name</th>\n",
       "    </tr>\n",
       "  </thead>\n",
       "  <tbody>\n",
       "    <tr>\n",
       "      <th>0</th>\n",
       "      <td>0</td>\n",
       "      <td>Melisa Morgan</td>\n",
       "    </tr>\n",
       "    <tr>\n",
       "      <th>1</th>\n",
       "      <td>1</td>\n",
       "      <td>Jacobs Cross</td>\n",
       "    </tr>\n",
       "    <tr>\n",
       "      <th>2</th>\n",
       "      <td>2</td>\n",
       "      <td>Margaret Frazier</td>\n",
       "    </tr>\n",
       "  </tbody>\n",
       "</table>\n",
       "</div>"
      ],
      "text/plain": [
       "   id              name\n",
       "0   0     Melisa Morgan\n",
       "1   1      Jacobs Cross\n",
       "2   2  Margaret Frazier"
      ]
     },
     "execution_count": 60,
     "metadata": {},
     "output_type": "execute_result"
    }
   ],
   "source": [
    "friends_df"
   ]
  },
  {
   "cell_type": "code",
   "execution_count": 61,
   "metadata": {},
   "outputs": [
    {
     "data": {
      "text/html": [
       "<div>\n",
       "<style scoped>\n",
       "    .dataframe tbody tr th:only-of-type {\n",
       "        vertical-align: middle;\n",
       "    }\n",
       "\n",
       "    .dataframe tbody tr th {\n",
       "        vertical-align: top;\n",
       "    }\n",
       "\n",
       "    .dataframe thead th {\n",
       "        text-align: right;\n",
       "    }\n",
       "</style>\n",
       "<table border=\"1\" class=\"dataframe\">\n",
       "  <thead>\n",
       "    <tr style=\"text-align: right;\">\n",
       "      <th></th>\n",
       "      <th>guid</th>\n",
       "      <th>isActive</th>\n",
       "      <th>balance</th>\n",
       "      <th>picture</th>\n",
       "      <th>age</th>\n",
       "      <th>eyeColor</th>\n",
       "      <th>name</th>\n",
       "      <th>gender</th>\n",
       "      <th>company</th>\n",
       "      <th>email</th>\n",
       "      <th>phone</th>\n",
       "      <th>address</th>\n",
       "      <th>registered</th>\n",
       "    </tr>\n",
       "  </thead>\n",
       "  <tbody>\n",
       "    <tr>\n",
       "      <th>0</th>\n",
       "      <td>958bace7-72b7-4962-b6d0-2fa1e01b9879</td>\n",
       "      <td>False</td>\n",
       "      <td>$2,602.72</td>\n",
       "      <td>http://placehold.it/32x32</td>\n",
       "      <td>23</td>\n",
       "      <td>blue</td>\n",
       "      <td>Rachelle Lee</td>\n",
       "      <td>female</td>\n",
       "      <td>EQUITAX</td>\n",
       "      <td>rachellelee@equitax.com</td>\n",
       "      <td>+1 (815) 433-2818</td>\n",
       "      <td>537 Hope Street, Avalon, Federated States Of M...</td>\n",
       "      <td>2018-01-26T02:48:34 -06:-30</td>\n",
       "    </tr>\n",
       "  </tbody>\n",
       "</table>\n",
       "</div>"
      ],
      "text/plain": [
       "                                   guid  isActive    balance  \\\n",
       "0  958bace7-72b7-4962-b6d0-2fa1e01b9879     False  $2,602.72   \n",
       "\n",
       "                     picture  age eyeColor          name  gender  company  \\\n",
       "0  http://placehold.it/32x32   23     blue  Rachelle Lee  female  EQUITAX   \n",
       "\n",
       "                     email              phone  \\\n",
       "0  rachellelee@equitax.com  +1 (815) 433-2818   \n",
       "\n",
       "                                             address  \\\n",
       "0  537 Hope Street, Avalon, Federated States Of M...   \n",
       "\n",
       "                    registered  \n",
       "0  2018-01-26T02:48:34 -06:-30  "
      ]
     },
     "execution_count": 61,
     "metadata": {},
     "output_type": "execute_result"
    }
   ],
   "source": [
    "user_df"
   ]
  },
  {
   "cell_type": "code",
   "execution_count": 64,
   "metadata": {},
   "outputs": [],
   "source": []
  },
  {
   "cell_type": "code",
   "execution_count": null,
   "metadata": {},
   "outputs": [],
   "source": []
  }
 ],
 "metadata": {
  "kernelspec": {
   "display_name": "Python 3.8.10 64-bit",
   "language": "python",
   "name": "python3"
  },
  "language_info": {
   "codemirror_mode": {
    "name": "ipython",
    "version": 3
   },
   "file_extension": ".py",
   "mimetype": "text/x-python",
   "name": "python",
   "nbconvert_exporter": "python",
   "pygments_lexer": "ipython3",
   "version": "3.8.10"
  },
  "orig_nbformat": 4,
  "vscode": {
   "interpreter": {
    "hash": "916dbcbb3f70747c44a77c7bcd40155683ae19c65e1c03b4aa3499c5328201f1"
   }
  }
 },
 "nbformat": 4,
 "nbformat_minor": 2
}
